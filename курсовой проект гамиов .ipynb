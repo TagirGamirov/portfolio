{
 "cells": [
  {
   "cell_type": "code",
   "execution_count": 1,
   "id": "10aaa5d4",
   "metadata": {},
   "outputs": [],
   "source": [
    "from scipy.stats import norm\n",
    "import numpy as np \n",
    "import matplotlib.pyplot as ply\n",
    "import seaborn as sns\n",
    "import pandas as pd\n",
    "from scipy.stats import ttest_ind, mannwhitneyu, shapiro, spearmanr, pearsonr\n",
    "from decimal import Decimal\n"
   ]
  },
  {
   "cell_type": "code",
   "execution_count": 2,
   "id": "e6c9463a",
   "metadata": {},
   "outputs": [],
   "source": [
    "df_0=pd.read_csv('/Users/tagirgamirov/Downloads/Dataset_AB_TEST.csv', sep=';',decimal=',')\n"
   ]
  },
  {
   "cell_type": "code",
   "execution_count": 3,
   "id": "1a47eded",
   "metadata": {},
   "outputs": [
    {
     "name": "stdout",
     "output_type": "stream",
     "text": [
      "<class 'pandas.core.frame.DataFrame'>\n",
      "RangeIndex: 10976 entries, 0 to 10975\n",
      "Data columns (total 5 columns):\n",
      " #   Column      Non-Null Count  Dtype  \n",
      "---  ------      --------------  -----  \n",
      " 0   id_client   10976 non-null  int64  \n",
      " 1   id_group    10902 non-null  object \n",
      " 2   sum_pay     10849 non-null  float64\n",
      " 3   id_point    10895 non-null  float64\n",
      " 4   months_reg  10976 non-null  int64  \n",
      "dtypes: float64(2), int64(2), object(1)\n",
      "memory usage: 428.9+ KB\n"
     ]
    }
   ],
   "source": [
    "df_0.info()"
   ]
  },
  {
   "cell_type": "code",
   "execution_count": 4,
   "id": "2d0a728e",
   "metadata": {},
   "outputs": [
    {
     "data": {
      "text/plain": [
       "id_client       0\n",
       "id_group       74\n",
       "sum_pay       127\n",
       "id_point       81\n",
       "months_reg      0\n",
       "dtype: int64"
      ]
     },
     "execution_count": 4,
     "metadata": {},
     "output_type": "execute_result"
    }
   ],
   "source": [
    "df_0.isnull().sum()"
   ]
  },
  {
   "cell_type": "code",
   "execution_count": 5,
   "id": "11e47541",
   "metadata": {},
   "outputs": [],
   "source": [
    "df=df_0.dropna()"
   ]
  },
  {
   "cell_type": "code",
   "execution_count": 6,
   "id": "2e8f9b76",
   "metadata": {},
   "outputs": [
    {
     "data": {
      "text/html": [
       "<div>\n",
       "<style scoped>\n",
       "    .dataframe tbody tr th:only-of-type {\n",
       "        vertical-align: middle;\n",
       "    }\n",
       "\n",
       "    .dataframe tbody tr th {\n",
       "        vertical-align: top;\n",
       "    }\n",
       "\n",
       "    .dataframe thead th {\n",
       "        text-align: right;\n",
       "    }\n",
       "</style>\n",
       "<table border=\"1\" class=\"dataframe\">\n",
       "  <thead>\n",
       "    <tr style=\"text-align: right;\">\n",
       "      <th></th>\n",
       "      <th>id_client</th>\n",
       "      <th>id_group</th>\n",
       "      <th>sum_pay</th>\n",
       "      <th>id_point</th>\n",
       "      <th>months_reg</th>\n",
       "    </tr>\n",
       "  </thead>\n",
       "  <tbody>\n",
       "    <tr>\n",
       "      <th>0</th>\n",
       "      <td>1420218</td>\n",
       "      <td>test</td>\n",
       "      <td>3288.0</td>\n",
       "      <td>1199.0</td>\n",
       "      <td>8</td>\n",
       "    </tr>\n",
       "    <tr>\n",
       "      <th>1</th>\n",
       "      <td>1390221</td>\n",
       "      <td>control</td>\n",
       "      <td>1267.0</td>\n",
       "      <td>1182.0</td>\n",
       "      <td>11</td>\n",
       "    </tr>\n",
       "    <tr>\n",
       "      <th>2</th>\n",
       "      <td>1363404</td>\n",
       "      <td>control</td>\n",
       "      <td>4259.0</td>\n",
       "      <td>1178.0</td>\n",
       "      <td>2</td>\n",
       "    </tr>\n",
       "    <tr>\n",
       "      <th>3</th>\n",
       "      <td>1370042</td>\n",
       "      <td>test</td>\n",
       "      <td>7211.0</td>\n",
       "      <td>1179.0</td>\n",
       "      <td>3</td>\n",
       "    </tr>\n",
       "    <tr>\n",
       "      <th>4</th>\n",
       "      <td>1360376</td>\n",
       "      <td>control</td>\n",
       "      <td>760.0</td>\n",
       "      <td>1178.0</td>\n",
       "      <td>14</td>\n",
       "    </tr>\n",
       "    <tr>\n",
       "      <th>...</th>\n",
       "      <td>...</td>\n",
       "      <td>...</td>\n",
       "      <td>...</td>\n",
       "      <td>...</td>\n",
       "      <td>...</td>\n",
       "    </tr>\n",
       "    <tr>\n",
       "      <th>10971</th>\n",
       "      <td>1359021</td>\n",
       "      <td>control</td>\n",
       "      <td>799.0</td>\n",
       "      <td>1178.0</td>\n",
       "      <td>3</td>\n",
       "    </tr>\n",
       "    <tr>\n",
       "      <th>10972</th>\n",
       "      <td>1363347</td>\n",
       "      <td>control</td>\n",
       "      <td>4825.0</td>\n",
       "      <td>1178.0</td>\n",
       "      <td>6</td>\n",
       "    </tr>\n",
       "    <tr>\n",
       "      <th>10973</th>\n",
       "      <td>1373031</td>\n",
       "      <td>test</td>\n",
       "      <td>673.0</td>\n",
       "      <td>1179.0</td>\n",
       "      <td>1</td>\n",
       "    </tr>\n",
       "    <tr>\n",
       "      <th>10974</th>\n",
       "      <td>1370292</td>\n",
       "      <td>test</td>\n",
       "      <td>1120.0</td>\n",
       "      <td>1179.0</td>\n",
       "      <td>1</td>\n",
       "    </tr>\n",
       "    <tr>\n",
       "      <th>10975</th>\n",
       "      <td>1370038</td>\n",
       "      <td>test</td>\n",
       "      <td>5348.0</td>\n",
       "      <td>1179.0</td>\n",
       "      <td>8</td>\n",
       "    </tr>\n",
       "  </tbody>\n",
       "</table>\n",
       "<p>10840 rows × 5 columns</p>\n",
       "</div>"
      ],
      "text/plain": [
       "       id_client id_group  sum_pay  id_point  months_reg\n",
       "0        1420218     test   3288.0    1199.0           8\n",
       "1        1390221  control   1267.0    1182.0          11\n",
       "2        1363404  control   4259.0    1178.0           2\n",
       "3        1370042     test   7211.0    1179.0           3\n",
       "4        1360376  control    760.0    1178.0          14\n",
       "...          ...      ...      ...       ...         ...\n",
       "10971    1359021  control    799.0    1178.0           3\n",
       "10972    1363347  control   4825.0    1178.0           6\n",
       "10973    1373031     test    673.0    1179.0           1\n",
       "10974    1370292     test   1120.0    1179.0           1\n",
       "10975    1370038     test   5348.0    1179.0           8\n",
       "\n",
       "[10840 rows x 5 columns]"
      ]
     },
     "execution_count": 6,
     "metadata": {},
     "output_type": "execute_result"
    }
   ],
   "source": [
    "df"
   ]
  },
  {
   "cell_type": "code",
   "execution_count": 7,
   "id": "02184390",
   "metadata": {},
   "outputs": [
    {
     "data": {
      "text/html": [
       "<div>\n",
       "<style scoped>\n",
       "    .dataframe tbody tr th:only-of-type {\n",
       "        vertical-align: middle;\n",
       "    }\n",
       "\n",
       "    .dataframe tbody tr th {\n",
       "        vertical-align: top;\n",
       "    }\n",
       "\n",
       "    .dataframe thead th {\n",
       "        text-align: right;\n",
       "    }\n",
       "</style>\n",
       "<table border=\"1\" class=\"dataframe\">\n",
       "  <thead>\n",
       "    <tr style=\"text-align: right;\">\n",
       "      <th></th>\n",
       "      <th>id_client</th>\n",
       "      <th>sum_pay</th>\n",
       "      <th>id_point</th>\n",
       "      <th>months_reg</th>\n",
       "    </tr>\n",
       "  </thead>\n",
       "  <tbody>\n",
       "    <tr>\n",
       "      <th>count</th>\n",
       "      <td>1.084000e+04</td>\n",
       "      <td>10840.000000</td>\n",
       "      <td>10840.000000</td>\n",
       "      <td>10840.000000</td>\n",
       "    </tr>\n",
       "    <tr>\n",
       "      <th>mean</th>\n",
       "      <td>1.372953e+06</td>\n",
       "      <td>3568.758026</td>\n",
       "      <td>1180.039760</td>\n",
       "      <td>4.693911</td>\n",
       "    </tr>\n",
       "    <tr>\n",
       "      <th>std</th>\n",
       "      <td>1.482036e+04</td>\n",
       "      <td>2927.273978</td>\n",
       "      <td>4.353995</td>\n",
       "      <td>3.174513</td>\n",
       "    </tr>\n",
       "    <tr>\n",
       "      <th>min</th>\n",
       "      <td>1.359000e+06</td>\n",
       "      <td>59.000000</td>\n",
       "      <td>1178.000000</td>\n",
       "      <td>0.000000</td>\n",
       "    </tr>\n",
       "    <tr>\n",
       "      <th>25%</th>\n",
       "      <td>1.361710e+06</td>\n",
       "      <td>1250.750000</td>\n",
       "      <td>1178.000000</td>\n",
       "      <td>2.000000</td>\n",
       "    </tr>\n",
       "    <tr>\n",
       "      <th>50%</th>\n",
       "      <td>1.370636e+06</td>\n",
       "      <td>3173.500000</td>\n",
       "      <td>1179.000000</td>\n",
       "      <td>4.000000</td>\n",
       "    </tr>\n",
       "    <tr>\n",
       "      <th>75%</th>\n",
       "      <td>1.373417e+06</td>\n",
       "      <td>5356.500000</td>\n",
       "      <td>1179.000000</td>\n",
       "      <td>6.000000</td>\n",
       "    </tr>\n",
       "    <tr>\n",
       "      <th>max</th>\n",
       "      <td>1.420345e+06</td>\n",
       "      <td>24797.000000</td>\n",
       "      <td>1199.000000</td>\n",
       "      <td>14.000000</td>\n",
       "    </tr>\n",
       "  </tbody>\n",
       "</table>\n",
       "</div>"
      ],
      "text/plain": [
       "          id_client       sum_pay      id_point    months_reg\n",
       "count  1.084000e+04  10840.000000  10840.000000  10840.000000\n",
       "mean   1.372953e+06   3568.758026   1180.039760      4.693911\n",
       "std    1.482036e+04   2927.273978      4.353995      3.174513\n",
       "min    1.359000e+06     59.000000   1178.000000      0.000000\n",
       "25%    1.361710e+06   1250.750000   1178.000000      2.000000\n",
       "50%    1.370636e+06   3173.500000   1179.000000      4.000000\n",
       "75%    1.373417e+06   5356.500000   1179.000000      6.000000\n",
       "max    1.420345e+06  24797.000000   1199.000000     14.000000"
      ]
     },
     "execution_count": 7,
     "metadata": {},
     "output_type": "execute_result"
    }
   ],
   "source": [
    "df.describe()\n",
    "\n"
   ]
  },
  {
   "cell_type": "code",
   "execution_count": 8,
   "id": "7d5b67f3",
   "metadata": {},
   "outputs": [],
   "source": [
    "def statustical_analysis(r,q = [0.1, 0.25,0.3, 0.4, 0.5, 0.6, 0.75, 0.9]):\n",
    "    \n",
    "    if (type(r) is not list) & (type(r) is not tuple):\n",
    "        print ('нужен список или кортеж!')\n",
    "        return\n",
    "    \n",
    "    if len(r)<=4:\n",
    "        print(\"Требуется более длинный ряд\")\n",
    "        return\n",
    "    \n",
    "    r = pd.Series(r)\n",
    "        \n",
    "    r1_var=r.var()\n",
    "    r1_mean=r.mean()\n",
    "    r1_std=r.std()\n",
    "    \n",
    "    print (\"среднее ряда =\", r1_var )\n",
    "    print (\"дисперсия ряда =\", r1_mean)\n",
    "    print (\"стандартное отклонение ряда =\",r1_std)\n",
    "    print()\n",
    "    \n",
    "    qs = np.quantile(r,q)\n",
    "    \n",
    "    for i in range(len(q)):\n",
    "        if q[i]==0.5:\n",
    "            print (\"медиана =\", qs[i])\n",
    "        elif q[i]==0.25:\n",
    "            print (\"квартиль =\", qs[i])\n",
    "        elif q[i]==0.75:\n",
    "            print (\"квартиль =\", qs[i])\n",
    "        elif q[i]*100% 10==0:\n",
    "            print (\"номер дедиля\",q[i]*10, \"=\", qs[i])\n",
    "        else:\n",
    "            print(\"квантиль\", q[i],\"=\", qs[i])\n",
    "            \n",
    "        sns.histplot(data=r)\n",
    "        return qs,r1_var,r1_mean, r1_std\n"
   ]
  },
  {
   "cell_type": "code",
   "execution_count": 9,
   "id": "cbb56a96",
   "metadata": {},
   "outputs": [],
   "source": [
    "def test_calc (r1,r2, alpha=0.05):\n",
    "    s,p=ttest_ind(r1,r2)\n",
    "    if p < alpha : \n",
    "        print(\"Гипотеза H0 не подтверждается: средние не равны \")\n",
    "        print(\"Разница средних = \", r1.mean()-r2.mean())\n",
    "    else:\n",
    "        print(\"разница средних = 0\")\n",
    "        print(\"Гипотеза H0  подтверждается: средние равны \")\n",
    "    \n",
    "    return (s,p) \n",
    "\n"
   ]
  },
  {
   "cell_type": "code",
   "execution_count": 10,
   "id": "583a0c03",
   "metadata": {},
   "outputs": [
    {
     "data": {
      "text/html": [
       "<div>\n",
       "<style scoped>\n",
       "    .dataframe tbody tr th:only-of-type {\n",
       "        vertical-align: middle;\n",
       "    }\n",
       "\n",
       "    .dataframe tbody tr th {\n",
       "        vertical-align: top;\n",
       "    }\n",
       "\n",
       "    .dataframe thead th {\n",
       "        text-align: right;\n",
       "    }\n",
       "</style>\n",
       "<table border=\"1\" class=\"dataframe\">\n",
       "  <thead>\n",
       "    <tr style=\"text-align: right;\">\n",
       "      <th></th>\n",
       "      <th>id_client</th>\n",
       "      <th>id_group</th>\n",
       "      <th>sum_pay</th>\n",
       "      <th>id_point</th>\n",
       "      <th>months_reg</th>\n",
       "    </tr>\n",
       "  </thead>\n",
       "  <tbody>\n",
       "    <tr>\n",
       "      <th>0</th>\n",
       "      <td>1420218</td>\n",
       "      <td>test</td>\n",
       "      <td>3288.0</td>\n",
       "      <td>1199.0</td>\n",
       "      <td>8</td>\n",
       "    </tr>\n",
       "    <tr>\n",
       "      <th>1</th>\n",
       "      <td>1390221</td>\n",
       "      <td>control</td>\n",
       "      <td>1267.0</td>\n",
       "      <td>1182.0</td>\n",
       "      <td>11</td>\n",
       "    </tr>\n",
       "    <tr>\n",
       "      <th>2</th>\n",
       "      <td>1363404</td>\n",
       "      <td>control</td>\n",
       "      <td>4259.0</td>\n",
       "      <td>1178.0</td>\n",
       "      <td>2</td>\n",
       "    </tr>\n",
       "    <tr>\n",
       "      <th>3</th>\n",
       "      <td>1370042</td>\n",
       "      <td>test</td>\n",
       "      <td>7211.0</td>\n",
       "      <td>1179.0</td>\n",
       "      <td>3</td>\n",
       "    </tr>\n",
       "    <tr>\n",
       "      <th>4</th>\n",
       "      <td>1360376</td>\n",
       "      <td>control</td>\n",
       "      <td>760.0</td>\n",
       "      <td>1178.0</td>\n",
       "      <td>14</td>\n",
       "    </tr>\n",
       "  </tbody>\n",
       "</table>\n",
       "</div>"
      ],
      "text/plain": [
       "   id_client id_group  sum_pay  id_point  months_reg\n",
       "0    1420218     test   3288.0    1199.0           8\n",
       "1    1390221  control   1267.0    1182.0          11\n",
       "2    1363404  control   4259.0    1178.0           2\n",
       "3    1370042     test   7211.0    1179.0           3\n",
       "4    1360376  control    760.0    1178.0          14"
      ]
     },
     "execution_count": 10,
     "metadata": {},
     "output_type": "execute_result"
    }
   ],
   "source": [
    "df.head()"
   ]
  },
  {
   "cell_type": "code",
   "execution_count": 11,
   "id": "005a7fa2",
   "metadata": {},
   "outputs": [
    {
     "data": {
      "text/html": [
       "<div>\n",
       "<style scoped>\n",
       "    .dataframe tbody tr th:only-of-type {\n",
       "        vertical-align: middle;\n",
       "    }\n",
       "\n",
       "    .dataframe tbody tr th {\n",
       "        vertical-align: top;\n",
       "    }\n",
       "\n",
       "    .dataframe thead th {\n",
       "        text-align: right;\n",
       "    }\n",
       "</style>\n",
       "<table border=\"1\" class=\"dataframe\">\n",
       "  <thead>\n",
       "    <tr style=\"text-align: right;\">\n",
       "      <th></th>\n",
       "      <th>id_client</th>\n",
       "      <th>sum_pay</th>\n",
       "      <th>id_point</th>\n",
       "      <th>months_reg</th>\n",
       "    </tr>\n",
       "  </thead>\n",
       "  <tbody>\n",
       "    <tr>\n",
       "      <th>count</th>\n",
       "      <td>1.084000e+04</td>\n",
       "      <td>10840.000000</td>\n",
       "      <td>10840.000000</td>\n",
       "      <td>10840.000000</td>\n",
       "    </tr>\n",
       "    <tr>\n",
       "      <th>mean</th>\n",
       "      <td>1.372953e+06</td>\n",
       "      <td>3568.758026</td>\n",
       "      <td>1180.039760</td>\n",
       "      <td>4.693911</td>\n",
       "    </tr>\n",
       "    <tr>\n",
       "      <th>std</th>\n",
       "      <td>1.482036e+04</td>\n",
       "      <td>2927.273978</td>\n",
       "      <td>4.353995</td>\n",
       "      <td>3.174513</td>\n",
       "    </tr>\n",
       "    <tr>\n",
       "      <th>min</th>\n",
       "      <td>1.359000e+06</td>\n",
       "      <td>59.000000</td>\n",
       "      <td>1178.000000</td>\n",
       "      <td>0.000000</td>\n",
       "    </tr>\n",
       "    <tr>\n",
       "      <th>25%</th>\n",
       "      <td>1.361710e+06</td>\n",
       "      <td>1250.750000</td>\n",
       "      <td>1178.000000</td>\n",
       "      <td>2.000000</td>\n",
       "    </tr>\n",
       "    <tr>\n",
       "      <th>50%</th>\n",
       "      <td>1.370636e+06</td>\n",
       "      <td>3173.500000</td>\n",
       "      <td>1179.000000</td>\n",
       "      <td>4.000000</td>\n",
       "    </tr>\n",
       "    <tr>\n",
       "      <th>75%</th>\n",
       "      <td>1.373417e+06</td>\n",
       "      <td>5356.500000</td>\n",
       "      <td>1179.000000</td>\n",
       "      <td>6.000000</td>\n",
       "    </tr>\n",
       "    <tr>\n",
       "      <th>max</th>\n",
       "      <td>1.420345e+06</td>\n",
       "      <td>24797.000000</td>\n",
       "      <td>1199.000000</td>\n",
       "      <td>14.000000</td>\n",
       "    </tr>\n",
       "  </tbody>\n",
       "</table>\n",
       "</div>"
      ],
      "text/plain": [
       "          id_client       sum_pay      id_point    months_reg\n",
       "count  1.084000e+04  10840.000000  10840.000000  10840.000000\n",
       "mean   1.372953e+06   3568.758026   1180.039760      4.693911\n",
       "std    1.482036e+04   2927.273978      4.353995      3.174513\n",
       "min    1.359000e+06     59.000000   1178.000000      0.000000\n",
       "25%    1.361710e+06   1250.750000   1178.000000      2.000000\n",
       "50%    1.370636e+06   3173.500000   1179.000000      4.000000\n",
       "75%    1.373417e+06   5356.500000   1179.000000      6.000000\n",
       "max    1.420345e+06  24797.000000   1199.000000     14.000000"
      ]
     },
     "execution_count": 11,
     "metadata": {},
     "output_type": "execute_result"
    }
   ],
   "source": [
    "df.describe()"
   ]
  },
  {
   "cell_type": "code",
   "execution_count": 12,
   "id": "4cacae96",
   "metadata": {},
   "outputs": [
    {
     "data": {
      "text/html": [
       "<div>\n",
       "<style scoped>\n",
       "    .dataframe tbody tr th:only-of-type {\n",
       "        vertical-align: middle;\n",
       "    }\n",
       "\n",
       "    .dataframe tbody tr th {\n",
       "        vertical-align: top;\n",
       "    }\n",
       "\n",
       "    .dataframe thead th {\n",
       "        text-align: right;\n",
       "    }\n",
       "</style>\n",
       "<table border=\"1\" class=\"dataframe\">\n",
       "  <thead>\n",
       "    <tr style=\"text-align: right;\">\n",
       "      <th></th>\n",
       "      <th>id_client</th>\n",
       "      <th>sum_pay</th>\n",
       "      <th>id_point</th>\n",
       "      <th>months_reg</th>\n",
       "    </tr>\n",
       "    <tr>\n",
       "      <th>id_group</th>\n",
       "      <th></th>\n",
       "      <th></th>\n",
       "      <th></th>\n",
       "      <th></th>\n",
       "    </tr>\n",
       "  </thead>\n",
       "  <tbody>\n",
       "    <tr>\n",
       "      <th>control</th>\n",
       "      <td>5171</td>\n",
       "      <td>5171</td>\n",
       "      <td>5171</td>\n",
       "      <td>5171</td>\n",
       "    </tr>\n",
       "    <tr>\n",
       "      <th>test</th>\n",
       "      <td>5669</td>\n",
       "      <td>5669</td>\n",
       "      <td>5669</td>\n",
       "      <td>5669</td>\n",
       "    </tr>\n",
       "  </tbody>\n",
       "</table>\n",
       "</div>"
      ],
      "text/plain": [
       "          id_client  sum_pay  id_point  months_reg\n",
       "id_group                                          \n",
       "control        5171     5171      5171        5171\n",
       "test           5669     5669      5669        5669"
      ]
     },
     "execution_count": 12,
     "metadata": {},
     "output_type": "execute_result"
    }
   ],
   "source": [
    "df.groupby('id_group').count()"
   ]
  },
  {
   "cell_type": "code",
   "execution_count": 13,
   "id": "9c92777f",
   "metadata": {},
   "outputs": [],
   "source": [
    "df = df[(~df['id_group'].isnull()) & (~df['sum_pay'].isnull()) & (~df['id_point'].isnull())]"
   ]
  },
  {
   "cell_type": "code",
   "execution_count": 14,
   "id": "2d097759",
   "metadata": {},
   "outputs": [
    {
     "data": {
      "text/html": [
       "<div>\n",
       "<style scoped>\n",
       "    .dataframe tbody tr th:only-of-type {\n",
       "        vertical-align: middle;\n",
       "    }\n",
       "\n",
       "    .dataframe tbody tr th {\n",
       "        vertical-align: top;\n",
       "    }\n",
       "\n",
       "    .dataframe thead th {\n",
       "        text-align: right;\n",
       "    }\n",
       "</style>\n",
       "<table border=\"1\" class=\"dataframe\">\n",
       "  <thead>\n",
       "    <tr style=\"text-align: right;\">\n",
       "      <th></th>\n",
       "      <th>id_client</th>\n",
       "      <th>sum_pay</th>\n",
       "      <th>id_point</th>\n",
       "      <th>months_reg</th>\n",
       "    </tr>\n",
       "  </thead>\n",
       "  <tbody>\n",
       "    <tr>\n",
       "      <th>count</th>\n",
       "      <td>1.076100e+04</td>\n",
       "      <td>10761.000000</td>\n",
       "      <td>10761.000000</td>\n",
       "      <td>10761.000000</td>\n",
       "    </tr>\n",
       "    <tr>\n",
       "      <th>mean</th>\n",
       "      <td>1.372876e+06</td>\n",
       "      <td>3431.377939</td>\n",
       "      <td>1180.033268</td>\n",
       "      <td>4.684509</td>\n",
       "    </tr>\n",
       "    <tr>\n",
       "      <th>std</th>\n",
       "      <td>1.482483e+04</td>\n",
       "      <td>2454.362626</td>\n",
       "      <td>4.366931</td>\n",
       "      <td>3.168530</td>\n",
       "    </tr>\n",
       "    <tr>\n",
       "      <th>min</th>\n",
       "      <td>1.359000e+06</td>\n",
       "      <td>59.000000</td>\n",
       "      <td>1178.000000</td>\n",
       "      <td>0.000000</td>\n",
       "    </tr>\n",
       "    <tr>\n",
       "      <th>25%</th>\n",
       "      <td>1.361691e+06</td>\n",
       "      <td>1237.000000</td>\n",
       "      <td>1178.000000</td>\n",
       "      <td>2.000000</td>\n",
       "    </tr>\n",
       "    <tr>\n",
       "      <th>50%</th>\n",
       "      <td>1.370605e+06</td>\n",
       "      <td>3155.000000</td>\n",
       "      <td>1179.000000</td>\n",
       "      <td>4.000000</td>\n",
       "    </tr>\n",
       "    <tr>\n",
       "      <th>75%</th>\n",
       "      <td>1.373387e+06</td>\n",
       "      <td>5274.000000</td>\n",
       "      <td>1179.000000</td>\n",
       "      <td>6.000000</td>\n",
       "    </tr>\n",
       "    <tr>\n",
       "      <th>max</th>\n",
       "      <td>1.420345e+06</td>\n",
       "      <td>10141.000000</td>\n",
       "      <td>1199.000000</td>\n",
       "      <td>14.000000</td>\n",
       "    </tr>\n",
       "  </tbody>\n",
       "</table>\n",
       "</div>"
      ],
      "text/plain": [
       "          id_client       sum_pay      id_point    months_reg\n",
       "count  1.076100e+04  10761.000000  10761.000000  10761.000000\n",
       "mean   1.372876e+06   3431.377939   1180.033268      4.684509\n",
       "std    1.482483e+04   2454.362626      4.366931      3.168530\n",
       "min    1.359000e+06     59.000000   1178.000000      0.000000\n",
       "25%    1.361691e+06   1237.000000   1178.000000      2.000000\n",
       "50%    1.370605e+06   3155.000000   1179.000000      4.000000\n",
       "75%    1.373387e+06   5274.000000   1179.000000      6.000000\n",
       "max    1.420345e+06  10141.000000   1199.000000     14.000000"
      ]
     },
     "execution_count": 14,
     "metadata": {},
     "output_type": "execute_result"
    }
   ],
   "source": [
    "df_cr=df[df['sum_pay']<11000]\n",
    "df_cr.describe()"
   ]
  },
  {
   "cell_type": "code",
   "execution_count": 15,
   "id": "2c1c525d",
   "metadata": {},
   "outputs": [],
   "source": [
    "df_abt=df_cr['sum_pay'].tolist()\n",
    "q_abt=np.arange(0.95,1,0.01)"
   ]
  },
  {
   "cell_type": "code",
   "execution_count": 16,
   "id": "4b4275fb",
   "metadata": {},
   "outputs": [
    {
     "name": "stdout",
     "output_type": "stream",
     "text": [
      "среднее ряда = 8568932.941996625\n",
      "дисперсия ряда = 3568.7580258302582\n",
      "стандартное отклонение ряда = 2927.27397795229\n",
      "\n",
      "номер дедиля 1.0 = 410.0\n"
     ]
    },
    {
     "data": {
      "text/plain": [
       "(array([  410.   ,  1250.75 ,  1590.   ,  2329.6  ,  3173.5  ,  3934.   ,\n",
       "         5356.5  ,  7088.2  ,  7805.1  ,  8041.   ,  8453.64 ,  9043.66 ,\n",
       "         9809.76 , 21046.075]),\n",
       " 8568932.941996625,\n",
       " 3568.7580258302582,\n",
       " 2927.27397795229)"
      ]
     },
     "execution_count": 16,
     "metadata": {},
     "output_type": "execute_result"
    },
    {
     "data": {
      "image/png": "[encoded data removed]",
      "text/plain": [
       "<Figure size 432x288 with 1 Axes>"
      ]
     },
     "metadata": {
      "needs_background": "light"
     },
     "output_type": "display_data"
    }
   ],
   "source": [
    "statustical_analysis(tuple(df['sum_pay']), q=[.1,.25,.3,.4,.5,.6,.75,.9,.95,.96,.97,.98,.99,.995])"
   ]
  },
  {
   "cell_type": "code",
   "execution_count": 17,
   "id": "32ff7de1",
   "metadata": {},
   "outputs": [],
   "source": [
    "df=df[df['sum_pay']<20000]"
   ]
  },
  {
   "cell_type": "code",
   "execution_count": 18,
   "id": "37b90dc5",
   "metadata": {},
   "outputs": [],
   "source": [
    "df_A=df[df['id_group']=='control']\n",
    "df_B=df[df['id_group']=='test']"
   ]
  },
  {
   "cell_type": "code",
   "execution_count": 19,
   "id": "b93e3c76",
   "metadata": {},
   "outputs": [],
   "source": [
    "def show_hist(r1,r2,graph_title, xlabel= 'размер платежа', ylabel='кол-во людей'):\n",
    "    sns.set(rc = {'figure.figsize':(12,9)})\n",
    "    ax1 = sns.histplot(r1, color = 'red')\n",
    "    ax2 = sns.histplot(r2, color = 'green')\n",
    "    ax1.set(xlabel = xlabel, ylabel = ylabel)\n",
    "    ply.title(graph_title)\n",
    "    ply.show()\n",
    "    return r1.mean(), r2.mean()\n"
   ]
  },
  {
   "cell_type": "code",
   "execution_count": 20,
   "id": "0849727f",
   "metadata": {},
   "outputs": [],
   "source": [
    "r1=df_cr.loc[df_cr['id_group']=='test']['sum_pay']\n",
    "r2=df_cr.loc[df_cr['id_group']=='control']['sum_pay']"
   ]
  },
  {
   "cell_type": "code",
   "execution_count": 21,
   "id": "23daf7c8",
   "metadata": {},
   "outputs": [
    {
     "data": {
      "image/png": "[encoded data removed]",
      "text/plain": [
       "<Figure size 864x648 with 1 Axes>"
      ]
     },
     "metadata": {},
     "output_type": "display_data"
    },
    {
     "data": {
      "text/plain": [
       "(3339.535408560311, 3515.361323607899)"
      ]
     },
     "execution_count": 21,
     "metadata": {},
     "output_type": "execute_result"
    }
   ],
   "source": [
    "show_hist(df_A['sum_pay'], df_B['sum_pay'], 'общие результаты А/В теста')\n"
   ]
  },
  {
   "cell_type": "code",
   "execution_count": 22,
   "id": "e96692e5",
   "metadata": {},
   "outputs": [],
   "source": [
    "def mann_whitney_func(r1, r2, alpha = 0.05):\n",
    "    \n",
    "    s,p = ttest_ind(r1,r2)\n",
    "    \n",
    "    if p < alpha:\n",
    "        print (\"гипотеза Н0 не подтверждается: средние равны\")\n",
    "        print(\"разница средних  =\", r1.mean() - r2.mean())\n",
    "    else:\n",
    "        print(\"гипотза Н0 подтверждается: средние равны \")\n",
    "        print(\"разница средних  = 0\")\n",
    "        return s, p"
   ]
  },
  {
   "cell_type": "code",
   "execution_count": 23,
   "id": "b0ec4d54",
   "metadata": {},
   "outputs": [
    {
     "name": "stdout",
     "output_type": "stream",
     "text": [
      "гипотеза Н0 не подтверждается: средние равны\n",
      "разница средних  = -175.82591504758784\n"
     ]
    }
   ],
   "source": [
    "mann_whitney_func(df_A['sum_pay'], df_B['sum_pay'])\n"
   ]
  },
  {
   "cell_type": "code",
   "execution_count": 24,
   "id": "e63457cc",
   "metadata": {},
   "outputs": [
    {
     "name": "stdout",
     "output_type": "stream",
     "text": [
      "Гипотеза H0 не подтверждается: средние не равны \n",
      "Разница средних =  -175.82591504758784\n"
     ]
    },
    {
     "data": {
      "text/plain": [
       "(-3.7141912292177888, 0.0002048855494553075)"
      ]
     },
     "execution_count": 24,
     "metadata": {},
     "output_type": "execute_result"
    }
   ],
   "source": [
    "test_calc(df_A['sum_pay'], df_B['sum_pay'])"
   ]
  },
  {
   "cell_type": "code",
   "execution_count": 25,
   "id": "aed7e1e1",
   "metadata": {},
   "outputs": [
    {
     "data": {
      "text/html": [
       "<div>\n",
       "<style scoped>\n",
       "    .dataframe tbody tr th:only-of-type {\n",
       "        vertical-align: middle;\n",
       "    }\n",
       "\n",
       "    .dataframe tbody tr th {\n",
       "        vertical-align: top;\n",
       "    }\n",
       "\n",
       "    .dataframe thead th {\n",
       "        text-align: right;\n",
       "    }\n",
       "</style>\n",
       "<table border=\"1\" class=\"dataframe\">\n",
       "  <thead>\n",
       "    <tr style=\"text-align: right;\">\n",
       "      <th></th>\n",
       "      <th>id_client</th>\n",
       "      <th>id_group</th>\n",
       "      <th>sum_pay</th>\n",
       "      <th>id_point</th>\n",
       "      <th>months_reg</th>\n",
       "    </tr>\n",
       "  </thead>\n",
       "  <tbody>\n",
       "    <tr>\n",
       "      <th>0</th>\n",
       "      <td>1420218</td>\n",
       "      <td>test</td>\n",
       "      <td>3288.0</td>\n",
       "      <td>1199.0</td>\n",
       "      <td>8</td>\n",
       "    </tr>\n",
       "    <tr>\n",
       "      <th>1</th>\n",
       "      <td>1390221</td>\n",
       "      <td>control</td>\n",
       "      <td>1267.0</td>\n",
       "      <td>1182.0</td>\n",
       "      <td>11</td>\n",
       "    </tr>\n",
       "    <tr>\n",
       "      <th>2</th>\n",
       "      <td>1363404</td>\n",
       "      <td>control</td>\n",
       "      <td>4259.0</td>\n",
       "      <td>1178.0</td>\n",
       "      <td>2</td>\n",
       "    </tr>\n",
       "    <tr>\n",
       "      <th>3</th>\n",
       "      <td>1370042</td>\n",
       "      <td>test</td>\n",
       "      <td>7211.0</td>\n",
       "      <td>1179.0</td>\n",
       "      <td>3</td>\n",
       "    </tr>\n",
       "    <tr>\n",
       "      <th>4</th>\n",
       "      <td>1360376</td>\n",
       "      <td>control</td>\n",
       "      <td>760.0</td>\n",
       "      <td>1178.0</td>\n",
       "      <td>14</td>\n",
       "    </tr>\n",
       "  </tbody>\n",
       "</table>\n",
       "</div>"
      ],
      "text/plain": [
       "   id_client id_group  sum_pay  id_point  months_reg\n",
       "0    1420218     test   3288.0    1199.0           8\n",
       "1    1390221  control   1267.0    1182.0          11\n",
       "2    1363404  control   4259.0    1178.0           2\n",
       "3    1370042     test   7211.0    1179.0           3\n",
       "4    1360376  control    760.0    1178.0          14"
      ]
     },
     "execution_count": 25,
     "metadata": {},
     "output_type": "execute_result"
    }
   ],
   "source": [
    "df.head()"
   ]
  },
  {
   "cell_type": "code",
   "execution_count": 26,
   "id": "123ff92d",
   "metadata": {},
   "outputs": [
    {
     "data": {
      "text/plain": [
       "id_client     1419980\n",
       "id_group         test\n",
       "sum_pay        3987.0\n",
       "id_point       1199.0\n",
       "months_reg          3\n",
       "Name: 1199, dtype: object"
      ]
     },
     "execution_count": 26,
     "metadata": {},
     "output_type": "execute_result"
    }
   ],
   "source": [
    "df.loc[1199]"
   ]
  },
  {
   "cell_type": "code",
   "execution_count": 27,
   "id": "5d89eca3",
   "metadata": {},
   "outputs": [
    {
     "data": {
      "text/html": [
       "<div>\n",
       "<style scoped>\n",
       "    .dataframe tbody tr th:only-of-type {\n",
       "        vertical-align: middle;\n",
       "    }\n",
       "\n",
       "    .dataframe tbody tr th {\n",
       "        vertical-align: top;\n",
       "    }\n",
       "\n",
       "    .dataframe thead th {\n",
       "        text-align: right;\n",
       "    }\n",
       "</style>\n",
       "<table border=\"1\" class=\"dataframe\">\n",
       "  <thead>\n",
       "    <tr style=\"text-align: right;\">\n",
       "      <th></th>\n",
       "      <th></th>\n",
       "      <th>id_client</th>\n",
       "      <th>sum_pay</th>\n",
       "      <th>months_reg</th>\n",
       "    </tr>\n",
       "    <tr>\n",
       "      <th>id_point</th>\n",
       "      <th>id_group</th>\n",
       "      <th></th>\n",
       "      <th></th>\n",
       "      <th></th>\n",
       "    </tr>\n",
       "  </thead>\n",
       "  <tbody>\n",
       "    <tr>\n",
       "      <th rowspan=\"2\" valign=\"top\">1178.0</th>\n",
       "      <th>control</th>\n",
       "      <td>2403</td>\n",
       "      <td>1946</td>\n",
       "      <td>15</td>\n",
       "    </tr>\n",
       "    <tr>\n",
       "      <th>test</th>\n",
       "      <td>2406</td>\n",
       "      <td>1909</td>\n",
       "      <td>15</td>\n",
       "    </tr>\n",
       "    <tr>\n",
       "      <th rowspan=\"2\" valign=\"top\">1179.0</th>\n",
       "      <th>control</th>\n",
       "      <td>1697</td>\n",
       "      <td>1500</td>\n",
       "      <td>15</td>\n",
       "    </tr>\n",
       "    <tr>\n",
       "      <th>test</th>\n",
       "      <td>1745</td>\n",
       "      <td>1526</td>\n",
       "      <td>15</td>\n",
       "    </tr>\n",
       "    <tr>\n",
       "      <th rowspan=\"2\" valign=\"top\">1182.0</th>\n",
       "      <th>control</th>\n",
       "      <td>1012</td>\n",
       "      <td>957</td>\n",
       "      <td>15</td>\n",
       "    </tr>\n",
       "    <tr>\n",
       "      <th>test</th>\n",
       "      <td>950</td>\n",
       "      <td>907</td>\n",
       "      <td>15</td>\n",
       "    </tr>\n",
       "    <tr>\n",
       "      <th rowspan=\"2\" valign=\"top\">1186.0</th>\n",
       "      <th>control</th>\n",
       "      <td>23</td>\n",
       "      <td>23</td>\n",
       "      <td>12</td>\n",
       "    </tr>\n",
       "    <tr>\n",
       "      <th>test</th>\n",
       "      <td>40</td>\n",
       "      <td>40</td>\n",
       "      <td>13</td>\n",
       "    </tr>\n",
       "    <tr>\n",
       "      <th rowspan=\"2\" valign=\"top\">1188.0</th>\n",
       "      <th>control</th>\n",
       "      <td>5</td>\n",
       "      <td>5</td>\n",
       "      <td>4</td>\n",
       "    </tr>\n",
       "    <tr>\n",
       "      <th>test</th>\n",
       "      <td>4</td>\n",
       "      <td>4</td>\n",
       "      <td>4</td>\n",
       "    </tr>\n",
       "    <tr>\n",
       "      <th>1199.0</th>\n",
       "      <th>test</th>\n",
       "      <td>476</td>\n",
       "      <td>456</td>\n",
       "      <td>15</td>\n",
       "    </tr>\n",
       "  </tbody>\n",
       "</table>\n",
       "</div>"
      ],
      "text/plain": [
       "                   id_client  sum_pay  months_reg\n",
       "id_point id_group                                \n",
       "1178.0   control        2403     1946          15\n",
       "         test           2406     1909          15\n",
       "1179.0   control        1697     1500          15\n",
       "         test           1745     1526          15\n",
       "1182.0   control        1012      957          15\n",
       "         test            950      907          15\n",
       "1186.0   control          23       23          12\n",
       "         test             40       40          13\n",
       "1188.0   control           5        5           4\n",
       "         test              4        4           4\n",
       "1199.0   test            476      456          15"
      ]
     },
     "execution_count": 27,
     "metadata": {},
     "output_type": "execute_result"
    }
   ],
   "source": [
    "df.groupby(['id_point', 'id_group']).nunique()"
   ]
  },
  {
   "cell_type": "code",
   "execution_count": 28,
   "id": "f6950a58",
   "metadata": {},
   "outputs": [],
   "source": [
    "df=df[~df['id_point'].isin([1186.0, 1188.0, 1199.0])]\n"
   ]
  },
  {
   "cell_type": "code",
   "execution_count": 29,
   "id": "264aaad3",
   "metadata": {},
   "outputs": [
    {
     "data": {
      "text/html": [
       "<div>\n",
       "<style scoped>\n",
       "    .dataframe tbody tr th:only-of-type {\n",
       "        vertical-align: middle;\n",
       "    }\n",
       "\n",
       "    .dataframe tbody tr th {\n",
       "        vertical-align: top;\n",
       "    }\n",
       "\n",
       "    .dataframe thead th {\n",
       "        text-align: right;\n",
       "    }\n",
       "</style>\n",
       "<table border=\"1\" class=\"dataframe\">\n",
       "  <thead>\n",
       "    <tr style=\"text-align: right;\">\n",
       "      <th></th>\n",
       "      <th></th>\n",
       "      <th>id_client</th>\n",
       "      <th>sum_pay</th>\n",
       "      <th>months_reg</th>\n",
       "    </tr>\n",
       "    <tr>\n",
       "      <th>id_point</th>\n",
       "      <th>id_group</th>\n",
       "      <th></th>\n",
       "      <th></th>\n",
       "      <th></th>\n",
       "    </tr>\n",
       "  </thead>\n",
       "  <tbody>\n",
       "    <tr>\n",
       "      <th rowspan=\"2\" valign=\"top\">1178.0</th>\n",
       "      <th>control</th>\n",
       "      <td>2403</td>\n",
       "      <td>1946</td>\n",
       "      <td>15</td>\n",
       "    </tr>\n",
       "    <tr>\n",
       "      <th>test</th>\n",
       "      <td>2406</td>\n",
       "      <td>1909</td>\n",
       "      <td>15</td>\n",
       "    </tr>\n",
       "    <tr>\n",
       "      <th rowspan=\"2\" valign=\"top\">1179.0</th>\n",
       "      <th>control</th>\n",
       "      <td>1697</td>\n",
       "      <td>1500</td>\n",
       "      <td>15</td>\n",
       "    </tr>\n",
       "    <tr>\n",
       "      <th>test</th>\n",
       "      <td>1745</td>\n",
       "      <td>1526</td>\n",
       "      <td>15</td>\n",
       "    </tr>\n",
       "    <tr>\n",
       "      <th rowspan=\"2\" valign=\"top\">1182.0</th>\n",
       "      <th>control</th>\n",
       "      <td>1012</td>\n",
       "      <td>957</td>\n",
       "      <td>15</td>\n",
       "    </tr>\n",
       "    <tr>\n",
       "      <th>test</th>\n",
       "      <td>950</td>\n",
       "      <td>907</td>\n",
       "      <td>15</td>\n",
       "    </tr>\n",
       "  </tbody>\n",
       "</table>\n",
       "</div>"
      ],
      "text/plain": [
       "                   id_client  sum_pay  months_reg\n",
       "id_point id_group                                \n",
       "1178.0   control        2403     1946          15\n",
       "         test           2406     1909          15\n",
       "1179.0   control        1697     1500          15\n",
       "         test           1745     1526          15\n",
       "1182.0   control        1012      957          15\n",
       "         test            950      907          15"
      ]
     },
     "execution_count": 29,
     "metadata": {},
     "output_type": "execute_result"
    }
   ],
   "source": [
    "df.groupby(['id_point','id_group']).nunique()"
   ]
  },
  {
   "cell_type": "code",
   "execution_count": 30,
   "id": "5f7599df",
   "metadata": {
    "scrolled": true
   },
   "outputs": [
    {
     "name": "stdout",
     "output_type": "stream",
     "text": [
      "анализ точки 1182.0\n"
     ]
    },
    {
     "data": {
      "image/png": "[encoded data removed]",
      "text/plain": [
       "<Figure size 864x648 with 1 Axes>"
      ]
     },
     "metadata": {},
     "output_type": "display_data"
    },
    {
     "name": "stdout",
     "output_type": "stream",
     "text": [
      "Гипотеза H0 не подтверждается: средние не равны \n",
      "Разница средних =  -908.1867859371746\n",
      "\n",
      "гипотеза Н0 не подтверждается: средние равны\n",
      "разница средних  = -908.1867859371746\n",
      "\n",
      "\n",
      "анализ точки 1178.0\n"
     ]
    },
    {
     "data": {
      "image/png": "[encoded data removed]",
      "text/plain": [
       "<Figure size 864x648 with 1 Axes>"
      ]
     },
     "metadata": {},
     "output_type": "display_data"
    },
    {
     "name": "stdout",
     "output_type": "stream",
     "text": [
      "разница средних = 0\n",
      "Гипотеза H0  подтверждается: средние равны \n",
      "\n",
      "гипотза Н0 подтверждается: средние равны \n",
      "разница средних  = 0\n",
      "\n",
      "\n",
      "анализ точки 1179.0\n"
     ]
    },
    {
     "data": {
      "image/png": "[encoded data removed]",
      "text/plain": [
       "<Figure size 864x648 with 1 Axes>"
      ]
     },
     "metadata": {},
     "output_type": "display_data"
    },
    {
     "name": "stdout",
     "output_type": "stream",
     "text": [
      "разница средних = 0\n",
      "Гипотеза H0  подтверждается: средние равны \n",
      "\n",
      "гипотза Н0 подтверждается: средние равны \n",
      "разница средних  = 0\n",
      "\n",
      "\n"
     ]
    }
   ],
   "source": [
    "for i in df.id_point.unique():\n",
    "    print('анализ точки', i)\n",
    "    df_loc_A = df_A[df_A['id_point']==i]\n",
    "    df_loc_B = df_B[df_B['id_point']==i]\n",
    "    \n",
    "    title_loc = 'результат A/B теста в точке' + str(i)\n",
    "    show_hist(df_loc_A['sum_pay'], df_loc_B['sum_pay'], title_loc)\n",
    "    \n",
    "    test_calc(df_loc_A['sum_pay'], df_loc_B['sum_pay'])\n",
    "    print()\n",
    "    mann_whitney_func(df_loc_A['sum_pay'], df_loc_B['sum_pay'])\n",
    "    print()\n",
    "    print()"
   ]
  },
  {
   "cell_type": "code",
   "execution_count": 31,
   "id": "261cf3b8",
   "metadata": {},
   "outputs": [
    {
     "data": {
      "text/html": [
       "<div>\n",
       "<style scoped>\n",
       "    .dataframe tbody tr th:only-of-type {\n",
       "        vertical-align: middle;\n",
       "    }\n",
       "\n",
       "    .dataframe tbody tr th {\n",
       "        vertical-align: top;\n",
       "    }\n",
       "\n",
       "    .dataframe thead th {\n",
       "        text-align: right;\n",
       "    }\n",
       "</style>\n",
       "<table border=\"1\" class=\"dataframe\">\n",
       "  <thead>\n",
       "    <tr style=\"text-align: right;\">\n",
       "      <th></th>\n",
       "      <th></th>\n",
       "      <th>id_client</th>\n",
       "      <th>sum_pay</th>\n",
       "    </tr>\n",
       "    <tr>\n",
       "      <th>id_point</th>\n",
       "      <th>id_group</th>\n",
       "      <th></th>\n",
       "      <th></th>\n",
       "    </tr>\n",
       "  </thead>\n",
       "  <tbody>\n",
       "    <tr>\n",
       "      <th rowspan=\"2\" valign=\"top\">1178.0</th>\n",
       "      <th>control</th>\n",
       "      <td>2403</td>\n",
       "      <td>3036.214732</td>\n",
       "    </tr>\n",
       "    <tr>\n",
       "      <th>test</th>\n",
       "      <td>2406</td>\n",
       "      <td>2936.386949</td>\n",
       "    </tr>\n",
       "    <tr>\n",
       "      <th rowspan=\"2\" valign=\"top\">1179.0</th>\n",
       "      <th>control</th>\n",
       "      <td>1697</td>\n",
       "      <td>3331.310548</td>\n",
       "    </tr>\n",
       "    <tr>\n",
       "      <th>test</th>\n",
       "      <td>1745</td>\n",
       "      <td>3421.826934</td>\n",
       "    </tr>\n",
       "    <tr>\n",
       "      <th rowspan=\"2\" valign=\"top\">1182.0</th>\n",
       "      <th>control</th>\n",
       "      <td>1012</td>\n",
       "      <td>4036.942688</td>\n",
       "    </tr>\n",
       "    <tr>\n",
       "      <th>test</th>\n",
       "      <td>950</td>\n",
       "      <td>4945.129474</td>\n",
       "    </tr>\n",
       "    <tr>\n",
       "      <th rowspan=\"2\" valign=\"top\">1186.0</th>\n",
       "      <th>control</th>\n",
       "      <td>23</td>\n",
       "      <td>4546.000000</td>\n",
       "    </tr>\n",
       "    <tr>\n",
       "      <th>test</th>\n",
       "      <td>40</td>\n",
       "      <td>3638.400000</td>\n",
       "    </tr>\n",
       "    <tr>\n",
       "      <th rowspan=\"2\" valign=\"top\">1188.0</th>\n",
       "      <th>control</th>\n",
       "      <td>5</td>\n",
       "      <td>5202.000000</td>\n",
       "    </tr>\n",
       "    <tr>\n",
       "      <th>test</th>\n",
       "      <td>4</td>\n",
       "      <td>4946.000000</td>\n",
       "    </tr>\n",
       "    <tr>\n",
       "      <th>1199.0</th>\n",
       "      <th>test</th>\n",
       "      <td>476</td>\n",
       "      <td>3908.861345</td>\n",
       "    </tr>\n",
       "  </tbody>\n",
       "</table>\n",
       "</div>"
      ],
      "text/plain": [
       "                   id_client      sum_pay\n",
       "id_point id_group                        \n",
       "1178.0   control        2403  3036.214732\n",
       "         test           2406  2936.386949\n",
       "1179.0   control        1697  3331.310548\n",
       "         test           1745  3421.826934\n",
       "1182.0   control        1012  4036.942688\n",
       "         test            950  4945.129474\n",
       "1186.0   control          23  4546.000000\n",
       "         test             40  3638.400000\n",
       "1188.0   control           5  5202.000000\n",
       "         test              4  4946.000000\n",
       "1199.0   test            476  3908.861345"
      ]
     },
     "execution_count": 31,
     "metadata": {},
     "output_type": "execute_result"
    }
   ],
   "source": [
    "df_cr.groupby(['id_point','id_group']).agg({'id_client':'count','sum_pay':'mean' })"
   ]
  },
  {
   "cell_type": "code",
   "execution_count": 32,
   "id": "31e41863",
   "metadata": {},
   "outputs": [
    {
     "data": {
      "text/plain": [
       "array([11,  2,  3, 14,  5,  1,  0,  9,  8, 12,  4,  6, 10, 13,  7])"
      ]
     },
     "execution_count": 32,
     "metadata": {},
     "output_type": "execute_result"
    }
   ],
   "source": [
    "df['months_reg'].unique()"
   ]
  },
  {
   "cell_type": "code",
   "execution_count": 33,
   "id": "46d482a8",
   "metadata": {},
   "outputs": [
    {
     "data": {
      "text/plain": [
       "<AxesSubplot:xlabel='months_reg', ylabel='sum_pay'>"
      ]
     },
     "execution_count": 33,
     "metadata": {},
     "output_type": "execute_result"
    },
    {
     "data": {
      "image/png": "[encoded data removed]",
      "text/plain": [
       "<Figure size 864x648 with 1 Axes>"
      ]
     },
     "metadata": {},
     "output_type": "display_data"
    }
   ],
   "source": [
    "sns.scatterplot(data=df,x= df['months_reg'], y=df['sum_pay'], alpha=0.5, hue=df['id_group'])"
   ]
  },
  {
   "cell_type": "code",
   "execution_count": 34,
   "id": "f8f3a9da",
   "metadata": {},
   "outputs": [
    {
     "data": {
      "text/plain": [
       "<seaborn.axisgrid.FacetGrid at 0x7f8f88bda040>"
      ]
     },
     "execution_count": 34,
     "metadata": {},
     "output_type": "execute_result"
    },
    {
     "data": {
      "image/png": "[encoded data removed]",
      "text/plain": [
       "<Figure size 504.85x288 with 1 Axes>"
      ]
     },
     "metadata": {},
     "output_type": "display_data"
    }
   ],
   "source": [
    "df_cor=df.groupby(['months_reg','id_group'])['sum_pay'].mean().reset_index()\n",
    "\n",
    "\n",
    "sns.catplot(x = 'months_reg', \n",
    "            y = 'sum_pay', \n",
    "                    hue = 'id_group',\n",
    "                    data =  df_cor, \n",
    "                    kind = \"bar\", \n",
    "                    height = 4,\n",
    "                    aspect = 1.5)"
   ]
  },
  {
   "cell_type": "code",
   "execution_count": 35,
   "id": "8ef9e97d",
   "metadata": {},
   "outputs": [
    {
     "data": {
      "text/plain": [
       "<AxesSubplot:xlabel='months_reg'>"
      ]
     },
     "execution_count": 35,
     "metadata": {},
     "output_type": "execute_result"
    },
    {
     "data": {
      "image/png": "[encoded data removed]",
      "text/plain": [
       "<Figure size 864x648 with 1 Axes>"
      ]
     },
     "metadata": {},
     "output_type": "display_data"
    }
   ],
   "source": [
    "df.groupby('months_reg')['sum_pay'].mean().plot(kind='bar')"
   ]
  },
  {
   "cell_type": "code",
   "execution_count": 36,
   "id": "1b9f053e",
   "metadata": {},
   "outputs": [
    {
     "data": {
      "text/plain": [
       "(0.6571833744696238, 0.0)"
      ]
     },
     "execution_count": 36,
     "metadata": {},
     "output_type": "execute_result"
    }
   ],
   "source": [
    "sp, p = spearmanr(df['months_reg'], df['sum_pay'])\n",
    "sp, p"
   ]
  },
  {
   "cell_type": "code",
   "execution_count": 37,
   "id": "07e2f061",
   "metadata": {},
   "outputs": [
    {
     "data": {
      "text/plain": [
       "(0.6040187245662575, 0.0)"
      ]
     },
     "execution_count": 37,
     "metadata": {},
     "output_type": "execute_result"
    }
   ],
   "source": [
    "pear, p = pearsonr(df['months_reg'], df['sum_pay'])\n",
    "pear, p\n",
    "\n"
   ]
  }
 ],
 "metadata": {
  "kernelspec": {
   "display_name": "Python 3 (ipykernel)",
   "language": "python",
   "name": "python3"
  },
  "language_info": {
   "codemirror_mode": {
    "name": "ipython",
    "version": 3
   },
   "file_extension": ".py",
   "mimetype": "text/x-python",
   "name": "python",
   "nbconvert_exporter": "python",
   "pygments_lexer": "ipython3",
   "version": "3.9.12"
  }
 },
 "nbformat": 4,
 "nbformat_minor": 5
}
